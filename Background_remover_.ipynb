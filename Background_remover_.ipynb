{
  "nbformat": 4,
  "nbformat_minor": 0,
  "metadata": {
    "colab": {
      "provenance": [],
      "authorship_tag": "ABX9TyO9B2VXDED5LpaKyHTwn/B4",
      "include_colab_link": true
    },
    "kernelspec": {
      "name": "python3",
      "display_name": "Python 3"
    },
    "language_info": {
      "name": "python"
    }
  },
  "cells": [
    {
      "cell_type": "markdown",
      "metadata": {
        "id": "view-in-github",
        "colab_type": "text"
      },
      "source": [
        "<a href=\"https://colab.research.google.com/github/Team-c22/Background-remover/blob/main/Background_remover_.ipynb\" target=\"_parent\"><img src=\"https://colab.research.google.com/assets/colab-badge.svg\" alt=\"Open In Colab\"/></a>"
      ]
    },
    {
      "cell_type": "code",
      "execution_count": 2,
      "metadata": {
        "colab": {
          "base_uri": "https://localhost:8080/"
        },
        "id": "FbFxgfi6lGO0",
        "outputId": "dc84ca03-c8ab-4c8e-d9d5-d04f172b8985"
      },
      "outputs": [
        {
          "output_type": "stream",
          "name": "stdout",
          "text": [
            "Mounted at /content/gdrive\n"
          ]
        }
      ],
      "source": [
        "from google.colab import drive\n",
        "drive.mount('/content/gdrive',force_remount=True)"
      ]
    },
    {
      "cell_type": "code",
      "source": [
        "%cd gdrive/My Drive"
      ],
      "metadata": {
        "colab": {
          "base_uri": "https://localhost:8080/"
        },
        "id": "dbwmxZbjlOov",
        "outputId": "9b13b308-b70a-4458-aefb-3b6f38dfdf24"
      },
      "execution_count": 3,
      "outputs": [
        {
          "output_type": "stream",
          "name": "stdout",
          "text": [
            "/content/gdrive/My Drive\n"
          ]
        }
      ]
    },
    {
      "cell_type": "code",
      "source": [
        "!wget http://download.tensorflow.org/models/deeplabv3_mnv2_pascal_train_aug_2018_01_29.tar.gz"
      ],
      "metadata": {
        "colab": {
          "base_uri": "https://localhost:8080/"
        },
        "id": "TFbW24kGmNO-",
        "outputId": "1c7be806-af94-4420-ee31-c47224acb3f8"
      },
      "execution_count": 4,
      "outputs": [
        {
          "output_type": "stream",
          "name": "stdout",
          "text": [
            "--2023-01-06 15:00:36--  http://download.tensorflow.org/models/deeplabv3_mnv2_pascal_train_aug_2018_01_29.tar.gz\n",
            "Resolving download.tensorflow.org (download.tensorflow.org)... 209.85.145.128, 2607:f8b0:4001:c1e::80\n",
            "Connecting to download.tensorflow.org (download.tensorflow.org)|209.85.145.128|:80... connected.\n",
            "HTTP request sent, awaiting response... 200 OK\n",
            "Length: 23882985 (23M) [application/x-tar]\n",
            "Saving to: ‘deeplabv3_mnv2_pascal_train_aug_2018_01_29.tar.gz’\n",
            "\n",
            "deeplabv3_mnv2_pasc 100%[===================>]  22.78M  59.6MB/s    in 0.4s    \n",
            "\n",
            "2023-01-06 15:00:36 (59.6 MB/s) - ‘deeplabv3_mnv2_pascal_train_aug_2018_01_29.tar.gz’ saved [23882985/23882985]\n",
            "\n"
          ]
        }
      ]
    },
    {
      "cell_type": "code",
      "source": [
        "!wget http://download.tensorflow.org/models/deeplabv3_pascal_train_aug_2018_01_04.tar.gz"
      ],
      "metadata": {
        "colab": {
          "base_uri": "https://localhost:8080/"
        },
        "id": "1lHeD82HmRPF",
        "outputId": "1dbf15fc-41f8-4507-d84d-e92066350725"
      },
      "execution_count": 5,
      "outputs": [
        {
          "output_type": "stream",
          "name": "stdout",
          "text": [
            "--2023-01-06 15:02:29--  http://download.tensorflow.org/models/deeplabv3_pascal_train_aug_2018_01_04.tar.gz\n",
            "Resolving download.tensorflow.org (download.tensorflow.org)... 209.85.145.128, 2607:f8b0:4001:c1e::80\n",
            "Connecting to download.tensorflow.org (download.tensorflow.org)|209.85.145.128|:80... connected.\n",
            "HTTP request sent, awaiting response... 200 OK\n",
            "Length: 460058541 (439M) [application/x-tar]\n",
            "Saving to: ‘deeplabv3_pascal_train_aug_2018_01_04.tar.gz’\n",
            "\n",
            "deeplabv3_pascal_tr 100%[===================>] 438.75M  65.0MB/s    in 6.6s    \n",
            "\n",
            "2023-01-06 15:02:36 (66.7 MB/s) - ‘deeplabv3_pascal_train_aug_2018_01_04.tar.gz’ saved [460058541/460058541]\n",
            "\n"
          ]
        }
      ]
    },
    {
      "cell_type": "code",
      "source": [
        "!mkdir mobile_net_model"
      ],
      "metadata": {
        "colab": {
          "base_uri": "https://localhost:8080/"
        },
        "id": "y_nSvjJHmsdL",
        "outputId": "c700decc-c7d9-44ee-9a42-2797e2e38a2e"
      },
      "execution_count": 6,
      "outputs": [
        {
          "output_type": "stream",
          "name": "stdout",
          "text": [
            "mkdir: cannot create directory ‘mobile_net_model’: File exists\n"
          ]
        }
      ]
    },
    {
      "cell_type": "code",
      "source": [
        "!mkdir xception_model+"
      ],
      "metadata": {
        "id": "PTaeHDW_mwI3"
      },
      "execution_count": 7,
      "outputs": []
    },
    {
      "cell_type": "code",
      "source": [
        "!tar xvzf deeplabv3_mnv2_pascal_train_aug_2018_01_29.tar.gz -C mobile_net_model --strip=1"
      ],
      "metadata": {
        "colab": {
          "base_uri": "https://localhost:8080/"
        },
        "id": "iaFRfvbOmz58",
        "outputId": "235f624d-137a-46c1-ec0f-ade6c77d1f1b"
      },
      "execution_count": 8,
      "outputs": [
        {
          "output_type": "stream",
          "name": "stdout",
          "text": [
            "deeplabv3_mnv2_pascal_train_aug/model.ckpt-30000.index\n",
            "deeplabv3_mnv2_pascal_train_aug/frozen_inference_graph.pb\n",
            "deeplabv3_mnv2_pascal_train_aug/model.ckpt-30000.data-00000-of-00001\n"
          ]
        }
      ]
    },
    {
      "cell_type": "code",
      "source": [
        "!tar xvzf deeplabv3_pascal_train_aug_2018_01_04.tar.gz -C xception_model --strip=1"
      ],
      "metadata": {
        "colab": {
          "base_uri": "https://localhost:8080/"
        },
        "id": "cS6p4u38m2VP",
        "outputId": "f9829415-bb76-46b7-d7ea-86cce2ca8dd6"
      },
      "execution_count": 9,
      "outputs": [
        {
          "output_type": "stream",
          "name": "stdout",
          "text": [
            "deeplabv3_pascal_train_aug/model.ckpt.index\n",
            "deeplabv3_pascal_train_aug/frozen_inference_graph.pb\n",
            "deeplabv3_pascal_train_aug/model.ckpt.data-00000-of-00001\n"
          ]
        }
      ]
    },
    {
      "cell_type": "code",
      "source": [
        "!rm deeplabv3_mnv2_pascal_train_aug_2018_01_29.tar.gz\n",
        "!rm deeplabv3_pascal_train_aug_2018_01_04.tar.gz"
      ],
      "metadata": {
        "id": "9t72LtRWm4lS"
      },
      "execution_count": 10,
      "outputs": []
    },
    {
      "cell_type": "code",
      "source": [
        "import os\n",
        "from io import BytesIO\n",
        "\n",
        "import numpy as np\n",
        "from PIL import Image\n",
        "\n",
        "import tensorflow as tf\n",
        "import sys\n",
        "import datetime\n",
        "import matplotlib.pyplot as plt\n",
        "\n",
        "class DeepLabModel(object):\n",
        "  \"\"\"Class to load deeplab model and run inference.\"\"\"\n",
        "\n",
        "  INPUT_TENSOR_NAME = 'ImageTensor:0'\n",
        "  OUTPUT_TENSOR_NAME = 'SemanticPredictions:0'\n",
        "  INPUT_SIZE = 513\n",
        "  FROZEN_GRAPH_NAME = 'frozen_inference_graph'\n",
        "\n",
        "  def __init__(self, tarball_path):\n",
        "    \"\"\"Creates and loads pretrained deeplab model.\"\"\"\n",
        "    self.graph = tf.Graph()\n",
        "\n",
        "    graph_def = None\n",
        "    graph_def = tf.compat.v1.GraphDef.FromString(open(tarball_path + \"/frozen_inference_graph.pb\", \"rb\").read()) \n",
        "\n",
        "\n",
        "    if graph_def is None:\n",
        "      raise RuntimeError('Cannot find inference graph in tar archive.')\n",
        "\n",
        "    with self.graph.as_default():\n",
        "      tf.import_graph_def(graph_def, name='')\n",
        "\n",
        "    self.sess = tf.compat.v1.Session(graph=self.graph)\n",
        "\n",
        "  def run(self, image):\n",
        "    \"\"\"Runs inference on a single image.\n",
        "    Args:\n",
        "      image: A PIL.Image object, raw input image.\n",
        "    Returns:\n",
        "      resized_image: RGB image resized from original input image.\n",
        "      seg_map: Segmentation map of `resized_image`.\n",
        "    \"\"\"\n",
        "    start = datetime.datetime.now()\n",
        "\n",
        "    width, height = image.size\n",
        "    resize_ratio = 1.0 * self.INPUT_SIZE / max(width, height)\n",
        "    target_size = (int(resize_ratio * width), int(resize_ratio * height))\n",
        "    resized_image = image.convert('RGB').resize(target_size, Image.ANTIALIAS)\n",
        "    batch_seg_map = self.sess.run(\n",
        "        self.OUTPUT_TENSOR_NAME,\n",
        "        feed_dict={self.INPUT_TENSOR_NAME: [np.asarray(resized_image)]})\n",
        "    seg_map = batch_seg_map[0]\n",
        "\n",
        "    end = datetime.datetime.now()\n",
        "\n",
        "    diff = end - start\n",
        "    print(\"Time taken to evaluate segmentation is : \" + str(diff))\n",
        "\n",
        "    return resized_image, seg_map\n",
        "\n",
        "def drawSegment(baseImg, matImg):\n",
        "  width, height = baseImg.size\n",
        "  dummyImg = np.zeros([height, width, 4], dtype=np.uint8)\n",
        "  for x in range(width):\n",
        "            for y in range(height):\n",
        "                color = matImg[y,x]\n",
        "                (r,g,b) = baseImg.getpixel((x,y))\n",
        "                if color == 0:\n",
        "                    dummyImg[y,x,3] = 0\n",
        "                else :\n",
        "                    dummyImg[y,x] = [r,g,b,255]\n",
        "  img = Image.fromarray(dummyImg)\n",
        "  plt.figure(figsize=(12, 10))\n",
        "  plt.subplot(221)\n",
        "  plt.imshow(baseImg)\n",
        "  plt.subplot(222)\n",
        "  plt.imshow(img)\n",
        "\n",
        "\n",
        "inputFilePath = sys.argv[1]\n",
        "outputFilePath = sys.argv[2]\n",
        "\n",
        "if inputFilePath is None or outputFilePath is None:\n",
        "  print(\"Bad parameters. Please specify input file path and output file path\")\n",
        "  exit()\n",
        "\n",
        "modelType = \"mobile_net_model\"\n",
        "if len(sys.argv) > 3 and sys.argv[3] == \"1\":\n",
        "  modelType = \"xception_model\"\n",
        "\n",
        "MODEL = DeepLabModel(modelType)\n",
        "print('model loaded successfully : ' + modelType)\n",
        "\n",
        "def run_visualization(filepath):\n",
        "  \"\"\"Inferences DeepLab model and visualizes result.\"\"\"\n",
        "  try:\n",
        "  \tprint(\"Trying to open : \" + sys.argv[1])\n",
        "  \t# f = open(sys.argv[1])\n",
        "  \tjpeg_str = open(filepath, \"rb\").read()\n",
        "  \torignal_im = Image.open(BytesIO(jpeg_str))\n",
        "  except IOError:\n",
        "    print('Cannot retrieve image. Please check file: ' + filepath)\n",
        "    return\n",
        "\n",
        "  print('running deeplab on image %s...' % filepath)\n",
        "  resized_im, seg_map = MODEL.run(orignal_im)\n",
        "\n",
        "  # vis_segmentation(resized_im, seg_map)\n",
        "  drawSegment(resized_im, seg_map)"
      ],
      "metadata": {
        "colab": {
          "base_uri": "https://localhost:8080/"
        },
        "id": "JL4SX7Jom8Ib",
        "outputId": "6faf099f-9d30-4690-9391-db7eb4b82182"
      },
      "execution_count": 11,
      "outputs": [
        {
          "output_type": "stream",
          "name": "stdout",
          "text": [
            "model loaded successfully : mobile_net_model\n"
          ]
        }
      ]
    },
    {
      "cell_type": "code",
      "source": [
        "run_visualization('https://pbs.twimg.com/profile_images/691700243809718272/z7XZUARB_400x400.jpg')"
      ],
      "metadata": {
        "colab": {
          "base_uri": "https://localhost:8080/"
        },
        "id": "nLvrXb6Fm_LU",
        "outputId": "7c3c6f81-7836-468a-f50d-1fd4ecb70359"
      },
      "execution_count": 12,
      "outputs": [
        {
          "output_type": "stream",
          "name": "stdout",
          "text": [
            "Trying to open : -f\n",
            "Cannot retrieve image. Please check file: https://pbs.twimg.com/profile_images/691700243809718272/z7XZUARB_400x400.jpg\n"
          ]
        }
      ]
    },
    {
      "cell_type": "code",
      "source": [],
      "metadata": {
        "id": "BRmXZUFKnFTy"
      },
      "execution_count": null,
      "outputs": []
    }
  ]
}